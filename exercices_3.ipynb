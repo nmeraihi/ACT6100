{
 "cells": [
  {
   "cell_type": "markdown",
   "metadata": {},
   "source": [
    "# Exercices\n",
    "\n",
    "Voici une série d'exercices afin de pratiquer les notions que nous avons vues ensemble jusqu'à maintenant. Ces exercices proviennent du livre {% cite james2013introduction%}  ainsi que des notes du cours de {% cite pigeon%}.\n",
    "\n"
   ]
  },
  {
   "cell_type": "markdown",
   "metadata": {},
   "source": [
    "# régression linéaire"
   ]
  },
  {
   "cell_type": "markdown",
   "metadata": {},
   "source": [
    "### Exercice #1"
   ]
  },
  {
   "cell_type": "markdown",
   "metadata": {},
   "source": [
    "La base de données **swmotorcycle** disponible dans la librarie [`CASdatasets`](https://github.com/nmeraihi/data/tree/master/CASdatasets/data) contient des fréquences de sinistre observées (variable $\\textbf{ClaimNb})$ pour $64548$ assurés ainsi que l'âge de la personne assurée (variable $\\textbf{OwnerAge})$ et l'exposition (variable $\\textbf{Exposure})$, en années.\n",
    "1. En considérant uniquement les trois variables mentionnées, réaliser un nettoyage de la base de données. Justifier. \n",
    "2. Afin de modéliser la fréquence des sinistres ($N$), on souhaite utiliser un modéle Poisson avec\n",
    "    \\begin{align*}\n",
    "      \\mathbb{E}(N) &= (\\textbf{Exposure})\\exp\\left(\\beta_0 + \\beta_1\\textbf{OwnerAge}\\right).\n",
    "    \\end{align*}\n",
    "    Calculer $\\widehat{\\beta}_0$ et $\\widehat{\\beta}_1$.\n",
    "\n",
    "Généralement, dans l'idée de construire une table de tarification, on divise la variable \\textbf{OwnerAge} en groupes. On peut, par exemple, construire un modéle avec deux classes telles que $x \\in C_1$ si l'ége de l'assuré est plus petit ou égal é $K$ années et $x \\in C_2$ sinon. Déterminer, $\\textbf{(i)}$ sans validation croisée et $\\textbf{(ii)}$ avec une $12$-validation croisée (groupes de tailles égales), le modéle optimal en vous basant sur l'erreur quadratique moyenne. Quelles seront les fréquences moyennes par groupe pour un assuré dont l'exposition est unitaire?"
   ]
  },
  {
   "cell_type": "markdown",
   "metadata": {},
   "source": [
    "### Exercice #2"
   ]
  },
  {
   "cell_type": "markdown",
   "metadata": {},
   "source": [
    "On souhaite utiliser la régression logistique comme technique de **scoring** pour prédire si un emprunteur sera un bon ou un mauvais payeur (et donc, si on lui accordera un crédit ou non). Le fichier de données `credit.csv` disponible sur le site du cours contient les données recueillies auprés de $1500$~clients d'une institution financiére.\n",
    "\n",
    "La variable $\\textbf{statut}$ est catégorielle et comporte deux\n",
    "modalités: $0$ si l'emprunteur a fait défaut et $1$ s'il a remboursé\n",
    "le prét.\n",
    "\n",
    "Les variables explicatives quantitatives sont:\n",
    "\n",
    "* $\\textbf{Age}$: l'âge de l'emprunteur (en années);\n",
    "* $\\textbf{Revenu}$: le revenu de l'emprunteur (en euros);\n",
    "* $\\textbf{Tendett}$: le taux d'endettement de l'emprunteur;\n",
    "* $\\textbf{Nexp}$: le nombre d'années d'expérience de l'emprunteur dans son travail actuel; et\n",
    "* $\\textbf{Rabanque}$: le nombre d'années depuis lesquelles\n",
    "  l'emprunteur est un client de la banque.\n",
    "\n",
    "Les variables explicatives qualitatives sont:\n",
    "\n",
    "* $\\textbf{Prof}$: la profession de l'emprunteur, $1$ pour les\n",
    "  professions libérales, $2$ pour les chémeurs, $3$ pour les employés\n",
    "  du secteur privé et $4$ pour les employés du secteur public.\n",
    "* $\\textbf{Genre}$: le sexe de l'emprunteur, $0$ pour les hommes et\n",
    "  $1$ pour les femmes."
   ]
  },
  {
   "cell_type": "markdown",
   "metadata": {},
   "source": [
    "\n",
    "Répondre aux questions suivantes.\n",
    "\n",
    "\n",
    "1. Pourquoi faut-il utiliser le modéle de régression logistique plutôt que le modéle de régression normale?\n",
    "2. Réaliser une régression logistique permettant d'expliquer la variable $\\textbf{statut}$. Quel est le modéle complet? Utiliser une méthode de sélection \\emph{Backward} avec critére BIC pour simplifier le modéle. Quel est le modéle final?\n",
    "3. Est-il possible de retirer $\\textbf{Prof_public}$ du modéle final?\n",
    "4. Est-il possible de retirer le $\\beta_0$ du modéle final?\n",
    "5. En utilisant le modéle final déterminé é la sous-question (b) et la $10$-validation croisée, déterminer le point de rupture $\\tau$ du modéle qui offrira le meilleur compromis entre sensibilité et spécificité.\n",
    "6. Un client de $35$ ans fait une demande de crédit. Il a un revenu de $2195$ euros, un taux d'endettement de $25~\\%$, $10$ années  d'expérience dans son emploi actuel comme employée du secteur public et est client de la banque depuis une dizaine d'années. En se basant sur le modéle final, quelle est la probabilité que le crédit lui soit accordé?"
   ]
  },
  {
   "cell_type": "markdown",
   "metadata": {},
   "source": [
    "# Références\n",
    "{% bibliography --cited %}"
   ]
  }
 ],
 "metadata": {
  "kernelspec": {
   "display_name": "Python 3",
   "language": "python",
   "name": "python3"
  },
  "language_info": {
   "codemirror_mode": {
    "name": "ipython",
    "version": 3
   },
   "file_extension": ".py",
   "mimetype": "text/x-python",
   "name": "python",
   "nbconvert_exporter": "python",
   "pygments_lexer": "ipython3",
   "version": "3.7.6"
  }
 },
 "nbformat": 4,
 "nbformat_minor": 4
}

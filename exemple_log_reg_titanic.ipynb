{
 "cells": [
  {
   "cell_type": "code",
   "execution_count": 5,
   "metadata": {},
   "outputs": [],
   "source": [
    "df<-read.csv(\"https://raw.githubusercontent.com/nmeraihi/ACT6100/master/data/Ronfle.txt\", sep=\"\\t\")"
   ]
  },
  {
   "cell_type": "code",
   "execution_count": 6,
   "metadata": {},
   "outputs": [
    {
     "data": {
      "text/html": [
       "<table>\n",
       "<thead><tr><th scope=col>Age</th><th scope=col>Poids</th><th scope=col>Taille</th><th scope=col>IMC</th><th scope=col>Alccol</th><th scope=col>Sexe</th><th scope=col>Ronfle</th><th scope=col>Tabac</th><th scope=col>AlcoolDisc</th><th scope=col>AgeDisc</th><th scope=col>IMCDisc</th></tr></thead>\n",
       "<tbody>\n",
       "\t<tr><td>33      </td><td>64      </td><td>160     </td><td>25.00000</td><td>0       </td><td>1       </td><td>0       </td><td>1       </td><td>0       </td><td>1       </td><td>2       </td></tr>\n",
       "\t<tr><td>38      </td><td>42      </td><td>161     </td><td>16.20308</td><td>4       </td><td>0       </td><td>0       </td><td>1       </td><td>1       </td><td>1       </td><td>1       </td></tr>\n",
       "\t<tr><td>57      </td><td>49      </td><td>164     </td><td>18.21832</td><td>0       </td><td>1       </td><td>0       </td><td>1       </td><td>0       </td><td>3       </td><td>1       </td></tr>\n",
       "\t<tr><td>64      </td><td>49      </td><td>164     </td><td>18.21832</td><td>4       </td><td>0       </td><td>1       </td><td>1       </td><td>1       </td><td>4       </td><td>1       </td></tr>\n",
       "\t<tr><td>56      </td><td>58      </td><td>164     </td><td>21.56454</td><td>7       </td><td>0       </td><td>1       </td><td>0       </td><td>2       </td><td>3       </td><td>2       </td></tr>\n",
       "\t<tr><td>51      </td><td>91      </td><td>195     </td><td>23.93162</td><td>2       </td><td>0       </td><td>1       </td><td>1       </td><td>1       </td><td>3       </td><td>2       </td></tr>\n",
       "</tbody>\n",
       "</table>\n"
      ],
      "text/latex": [
       "\\begin{tabular}{r|lllllllllll}\n",
       " Age & Poids & Taille & IMC & Alccol & Sexe & Ronfle & Tabac & AlcoolDisc & AgeDisc & IMCDisc\\\\\n",
       "\\hline\n",
       "\t 33       & 64       & 160      & 25.00000 & 0        & 1        & 0        & 1        & 0        & 1        & 2       \\\\\n",
       "\t 38       & 42       & 161      & 16.20308 & 4        & 0        & 0        & 1        & 1        & 1        & 1       \\\\\n",
       "\t 57       & 49       & 164      & 18.21832 & 0        & 1        & 0        & 1        & 0        & 3        & 1       \\\\\n",
       "\t 64       & 49       & 164      & 18.21832 & 4        & 0        & 1        & 1        & 1        & 4        & 1       \\\\\n",
       "\t 56       & 58       & 164      & 21.56454 & 7        & 0        & 1        & 0        & 2        & 3        & 2       \\\\\n",
       "\t 51       & 91       & 195      & 23.93162 & 2        & 0        & 1        & 1        & 1        & 3        & 2       \\\\\n",
       "\\end{tabular}\n"
      ],
      "text/markdown": [
       "\n",
       "| Age | Poids | Taille | IMC | Alccol | Sexe | Ronfle | Tabac | AlcoolDisc | AgeDisc | IMCDisc |\n",
       "|---|---|---|---|---|---|---|---|---|---|---|\n",
       "| 33       | 64       | 160      | 25.00000 | 0        | 1        | 0        | 1        | 0        | 1        | 2        |\n",
       "| 38       | 42       | 161      | 16.20308 | 4        | 0        | 0        | 1        | 1        | 1        | 1        |\n",
       "| 57       | 49       | 164      | 18.21832 | 0        | 1        | 0        | 1        | 0        | 3        | 1        |\n",
       "| 64       | 49       | 164      | 18.21832 | 4        | 0        | 1        | 1        | 1        | 4        | 1        |\n",
       "| 56       | 58       | 164      | 21.56454 | 7        | 0        | 1        | 0        | 2        | 3        | 2        |\n",
       "| 51       | 91       | 195      | 23.93162 | 2        | 0        | 1        | 1        | 1        | 3        | 2        |\n",
       "\n"
      ],
      "text/plain": [
       "  Age Poids Taille IMC      Alccol Sexe Ronfle Tabac AlcoolDisc AgeDisc IMCDisc\n",
       "1 33  64    160    25.00000 0      1    0      1     0          1       2      \n",
       "2 38  42    161    16.20308 4      0    0      1     1          1       1      \n",
       "3 57  49    164    18.21832 0      1    0      1     0          3       1      \n",
       "4 64  49    164    18.21832 4      0    1      1     1          4       1      \n",
       "5 56  58    164    21.56454 7      0    1      0     2          3       2      \n",
       "6 51  91    195    23.93162 2      0    1      1     1          3       2      "
      ]
     },
     "metadata": {},
     "output_type": "display_data"
    }
   ],
   "source": [
    "head(df)"
   ]
  },
  {
   "cell_type": "markdown",
   "metadata": {},
   "source": [
    "## Transformer les va caté en _factor_"
   ]
  },
  {
   "cell_type": "markdown",
   "metadata": {},
   "source": [
    "commenecer par la variables réponse:"
   ]
  },
  {
   "cell_type": "code",
   "execution_count": null,
   "metadata": {},
   "outputs": [],
   "source": [
    "df$Ronfle<-as.factor(df$Ronfle)"
   ]
  },
  {
   "cell_type": "code",
   "execution_count": 7,
   "metadata": {},
   "outputs": [],
   "source": [
    "df$Sexe<-as.factor(df$Sexe)"
   ]
  },
  {
   "cell_type": "code",
   "execution_count": 8,
   "metadata": {},
   "outputs": [],
   "source": [
    "df$Tabac<-as.factor(df$Tabac)"
   ]
  },
  {
   "cell_type": "code",
   "execution_count": 9,
   "metadata": {},
   "outputs": [],
   "source": [
    "df$IMCDisc<-as.factor(df$IMCDisc)"
   ]
  },
  {
   "cell_type": "code",
   "execution_count": 10,
   "metadata": {},
   "outputs": [],
   "source": [
    "df$AlcoolDisc<-as.factor(df$AlcoolDisc)"
   ]
  },
  {
   "cell_type": "code",
   "execution_count": 12,
   "metadata": {},
   "outputs": [],
   "source": [
    "modele_binom<-glm(data =  df,formula = Ronfle~Age+Tabac+IMCDisc+AlcoolDisc,\n",
    "                 family=binomial(link = \"logit\"))"
   ]
  },
  {
   "cell_type": "code",
   "execution_count": 13,
   "metadata": {},
   "outputs": [
    {
     "data": {
      "text/plain": [
       "\n",
       "Call:\n",
       "glm(formula = Ronfle ~ Age + Tabac + IMCDisc + AlcoolDisc, family = binomial(link = \"logit\"), \n",
       "    data = df)\n",
       "\n",
       "Deviance Residuals: \n",
       "    Min       1Q   Median       3Q      Max  \n",
       "-1.5166  -0.8823  -0.5250   1.0467   2.2500  \n",
       "\n",
       "Coefficients:\n",
       "            Estimate Std. Error z value Pr(>|z|)    \n",
       "(Intercept) -3.62024    1.91803  -1.887 0.059096 .  \n",
       "Age          0.06194    0.02352   2.634 0.008450 ** \n",
       "Tabac1      -1.22609    0.57153  -2.145 0.031931 *  \n",
       "IMCDisc2    -0.76402    1.49032  -0.513 0.608192    \n",
       "IMCDisc3    -0.57495    1.38250  -0.416 0.677502    \n",
       "IMCDisc4    -1.11395    1.56191  -0.713 0.475723    \n",
       "AlcoolDisc1  1.18624    0.60447   1.962 0.049712 *  \n",
       "AlcoolDisc2  2.45785    0.72666   3.382 0.000719 ***\n",
       "---\n",
       "Signif. codes:  0 ‘***’ 0.001 ‘**’ 0.01 ‘*’ 0.05 ‘.’ 0.1 ‘ ’ 1\n",
       "\n",
       "(Dispersion parameter for binomial family taken to be 1)\n",
       "\n",
       "    Null deviance: 129.49  on 99  degrees of freedom\n",
       "Residual deviance: 108.77  on 92  degrees of freedom\n",
       "AIC: 124.77\n",
       "\n",
       "Number of Fisher Scoring iterations: 4\n"
      ]
     },
     "metadata": {},
     "output_type": "display_data"
    }
   ],
   "source": [
    "summary(modele_binom)"
   ]
  },
  {
   "cell_type": "code",
   "execution_count": 14,
   "metadata": {},
   "outputs": [],
   "source": [
    "modele_binom_2<-glm(data=df, \n",
    "                    formula = Ronfle ~ Age + Tabac + AlcoolDisc,\n",
    "                   family=binomial(link = \"logit\"))"
   ]
  },
  {
   "cell_type": "code",
   "execution_count": 15,
   "metadata": {},
   "outputs": [
    {
     "data": {
      "text/plain": [
       "\n",
       "Call:\n",
       "glm(formula = Ronfle ~ Age + Tabac + AlcoolDisc, family = binomial(link = \"logit\"), \n",
       "    data = df)\n",
       "\n",
       "Deviance Residuals: \n",
       "    Min       1Q   Median       3Q      Max  \n",
       "-1.4863  -0.9201  -0.5223   1.0958   2.2622  \n",
       "\n",
       "Coefficients:\n",
       "            Estimate Std. Error z value Pr(>|z|)    \n",
       "(Intercept) -4.24010    1.39577  -3.038 0.002383 ** \n",
       "Age          0.06111    0.02334   2.618 0.008839 ** \n",
       "Tabac1      -1.17120    0.55651  -2.105 0.035332 *  \n",
       "AlcoolDisc1  1.21450    0.59950   2.026 0.042779 *  \n",
       "AlcoolDisc2  2.37953    0.71553   3.326 0.000882 ***\n",
       "---\n",
       "Signif. codes:  0 ‘***’ 0.001 ‘**’ 0.01 ‘*’ 0.05 ‘.’ 0.1 ‘ ’ 1\n",
       "\n",
       "(Dispersion parameter for binomial family taken to be 1)\n",
       "\n",
       "    Null deviance: 129.49  on 99  degrees of freedom\n",
       "Residual deviance: 109.50  on 95  degrees of freedom\n",
       "AIC: 119.5\n",
       "\n",
       "Number of Fisher Scoring iterations: 4\n"
      ]
     },
     "metadata": {},
     "output_type": "display_data"
    }
   ],
   "source": [
    "summary(modele_binom_2)"
   ]
  },
  {
   "cell_type": "markdown",
   "metadata": {},
   "source": [
    "$$pred=-4.24010+0.06111\\text{ Age}-1.17120\\text{ Tabac1}+1.21450 \\text{1.21450}+2.37953 \\text{ AlcoolDisc2}$$"
   ]
  },
  {
   "cell_type": "code",
   "execution_count": 16,
   "metadata": {},
   "outputs": [
    {
     "data": {
      "text/html": [
       "<table>\n",
       "<thead><tr><th scope=col>Age</th><th scope=col>Poids</th><th scope=col>Taille</th><th scope=col>IMC</th><th scope=col>Alccol</th><th scope=col>Sexe</th><th scope=col>Ronfle</th><th scope=col>Tabac</th><th scope=col>AlcoolDisc</th><th scope=col>AgeDisc</th><th scope=col>IMCDisc</th></tr></thead>\n",
       "<tbody>\n",
       "\t<tr><td>33      </td><td>64      </td><td>160     </td><td>25.00000</td><td>0       </td><td>1       </td><td>0       </td><td>1       </td><td>0       </td><td>1       </td><td>2       </td></tr>\n",
       "\t<tr><td>38      </td><td>42      </td><td>161     </td><td>16.20308</td><td>4       </td><td>0       </td><td>0       </td><td>1       </td><td>1       </td><td>1       </td><td>1       </td></tr>\n",
       "\t<tr><td>57      </td><td>49      </td><td>164     </td><td>18.21832</td><td>0       </td><td>1       </td><td>0       </td><td>1       </td><td>0       </td><td>3       </td><td>1       </td></tr>\n",
       "\t<tr><td>64      </td><td>49      </td><td>164     </td><td>18.21832</td><td>4       </td><td>0       </td><td>1       </td><td>1       </td><td>1       </td><td>4       </td><td>1       </td></tr>\n",
       "\t<tr><td>56      </td><td>58      </td><td>164     </td><td>21.56454</td><td>7       </td><td>0       </td><td>1       </td><td>0       </td><td>2       </td><td>3       </td><td>2       </td></tr>\n",
       "\t<tr><td>51      </td><td>91      </td><td>195     </td><td>23.93162</td><td>2       </td><td>0       </td><td>1       </td><td>1       </td><td>1       </td><td>3       </td><td>2       </td></tr>\n",
       "</tbody>\n",
       "</table>\n"
      ],
      "text/latex": [
       "\\begin{tabular}{r|lllllllllll}\n",
       " Age & Poids & Taille & IMC & Alccol & Sexe & Ronfle & Tabac & AlcoolDisc & AgeDisc & IMCDisc\\\\\n",
       "\\hline\n",
       "\t 33       & 64       & 160      & 25.00000 & 0        & 1        & 0        & 1        & 0        & 1        & 2       \\\\\n",
       "\t 38       & 42       & 161      & 16.20308 & 4        & 0        & 0        & 1        & 1        & 1        & 1       \\\\\n",
       "\t 57       & 49       & 164      & 18.21832 & 0        & 1        & 0        & 1        & 0        & 3        & 1       \\\\\n",
       "\t 64       & 49       & 164      & 18.21832 & 4        & 0        & 1        & 1        & 1        & 4        & 1       \\\\\n",
       "\t 56       & 58       & 164      & 21.56454 & 7        & 0        & 1        & 0        & 2        & 3        & 2       \\\\\n",
       "\t 51       & 91       & 195      & 23.93162 & 2        & 0        & 1        & 1        & 1        & 3        & 2       \\\\\n",
       "\\end{tabular}\n"
      ],
      "text/markdown": [
       "\n",
       "| Age | Poids | Taille | IMC | Alccol | Sexe | Ronfle | Tabac | AlcoolDisc | AgeDisc | IMCDisc |\n",
       "|---|---|---|---|---|---|---|---|---|---|---|\n",
       "| 33       | 64       | 160      | 25.00000 | 0        | 1        | 0        | 1        | 0        | 1        | 2        |\n",
       "| 38       | 42       | 161      | 16.20308 | 4        | 0        | 0        | 1        | 1        | 1        | 1        |\n",
       "| 57       | 49       | 164      | 18.21832 | 0        | 1        | 0        | 1        | 0        | 3        | 1        |\n",
       "| 64       | 49       | 164      | 18.21832 | 4        | 0        | 1        | 1        | 1        | 4        | 1        |\n",
       "| 56       | 58       | 164      | 21.56454 | 7        | 0        | 1        | 0        | 2        | 3        | 2        |\n",
       "| 51       | 91       | 195      | 23.93162 | 2        | 0        | 1        | 1        | 1        | 3        | 2        |\n",
       "\n"
      ],
      "text/plain": [
       "  Age Poids Taille IMC      Alccol Sexe Ronfle Tabac AlcoolDisc AgeDisc IMCDisc\n",
       "1 33  64    160    25.00000 0      1    0      1     0          1       2      \n",
       "2 38  42    161    16.20308 4      0    0      1     1          1       1      \n",
       "3 57  49    164    18.21832 0      1    0      1     0          3       1      \n",
       "4 64  49    164    18.21832 4      0    1      1     1          4       1      \n",
       "5 56  58    164    21.56454 7      0    1      0     2          3       2      \n",
       "6 51  91    195    23.93162 2      0    1      1     1          3       2      "
      ]
     },
     "metadata": {},
     "output_type": "display_data"
    }
   ],
   "source": [
    "head(df)"
   ]
  },
  {
   "cell_type": "code",
   "execution_count": 20,
   "metadata": {},
   "outputs": [
    {
     "data": {
      "text/html": [
       "<dl class=dl-horizontal>\n",
       "\t<dt>1</dt>\n",
       "\t\t<dd>0.0324598653554836</dd>\n",
       "\t<dt>2</dt>\n",
       "\t\t<dd>0.132996954487015</dd>\n",
       "\t<dt>3</dt>\n",
       "\t\t<dd>0.126953143173517</dd>\n",
       "\t<dt>4</dt>\n",
       "\t\t<dd>0.429003055544818</dd>\n",
       "\t<dt>5</dt>\n",
       "\t\t<dd>0.826561336980563</dd>\n",
       "\t<dt>6</dt>\n",
       "\t\t<dd>0.253445835532904</dd>\n",
       "</dl>\n"
      ],
      "text/latex": [
       "\\begin{description*}\n",
       "\\item[1] 0.0324598653554836\n",
       "\\item[2] 0.132996954487015\n",
       "\\item[3] 0.126953143173517\n",
       "\\item[4] 0.429003055544818\n",
       "\\item[5] 0.826561336980563\n",
       "\\item[6] 0.253445835532904\n",
       "\\end{description*}\n"
      ],
      "text/markdown": [
       "1\n",
       ":   0.03245986535548362\n",
       ":   0.1329969544870153\n",
       ":   0.1269531431735174\n",
       ":   0.4290030555448185\n",
       ":   0.8265613369805636\n",
       ":   0.253445835532904\n",
       "\n"
      ],
      "text/plain": [
       "         1          2          3          4          5          6 \n",
       "0.03245987 0.13299695 0.12695314 0.42900306 0.82656134 0.25344584 "
      ]
     },
     "metadata": {},
     "output_type": "display_data"
    }
   ],
   "source": [
    "prediction<-predict(modele_binom_2, df, type=\"response\")\n",
    "head(prediction)"
   ]
  },
  {
   "cell_type": "code",
   "execution_count": 23,
   "metadata": {},
   "outputs": [],
   "source": [
    "tau=.5"
   ]
  },
  {
   "cell_type": "code",
   "execution_count": 29,
   "metadata": {},
   "outputs": [],
   "source": [
    "prediction_0_1<-as.numeric(prediction>tau)"
   ]
  },
  {
   "cell_type": "code",
   "execution_count": 30,
   "metadata": {},
   "outputs": [
    {
     "data": {
      "text/html": [
       "<table>\n",
       "<thead><tr><th scope=col>obser</th><th scope=col>pred_0_1</th></tr></thead>\n",
       "<tbody>\n",
       "\t<tr><td>0</td><td>0</td></tr>\n",
       "\t<tr><td>0</td><td>0</td></tr>\n",
       "\t<tr><td>0</td><td>0</td></tr>\n",
       "\t<tr><td>1</td><td>0</td></tr>\n",
       "\t<tr><td>1</td><td>1</td></tr>\n",
       "\t<tr><td>1</td><td>0</td></tr>\n",
       "</tbody>\n",
       "</table>\n"
      ],
      "text/latex": [
       "\\begin{tabular}{r|ll}\n",
       " obser & pred\\_0\\_1\\\\\n",
       "\\hline\n",
       "\t 0 & 0\\\\\n",
       "\t 0 & 0\\\\\n",
       "\t 0 & 0\\\\\n",
       "\t 1 & 0\\\\\n",
       "\t 1 & 1\\\\\n",
       "\t 1 & 0\\\\\n",
       "\\end{tabular}\n"
      ],
      "text/markdown": [
       "\n",
       "| obser | pred_0_1 |\n",
       "|---|---|\n",
       "| 0 | 0 |\n",
       "| 0 | 0 |\n",
       "| 0 | 0 |\n",
       "| 1 | 0 |\n",
       "| 1 | 1 |\n",
       "| 1 | 0 |\n",
       "\n"
      ],
      "text/plain": [
       "  obser pred_0_1\n",
       "1 0     0       \n",
       "2 0     0       \n",
       "3 0     0       \n",
       "4 1     0       \n",
       "5 1     1       \n",
       "6 1     0       "
      ]
     },
     "metadata": {},
     "output_type": "display_data"
    }
   ],
   "source": [
    "df_confus<-data.frame(obser=df$Ronfle, pred_0_1=prediction_0_1)\n",
    "head(df_confus)"
   ]
  },
  {
   "cell_type": "markdown",
   "metadata": {},
   "source": [
    "$\\text{sensib}=\\frac{\\text{0 correct}}{\\text{total 0}}$"
   ]
  },
  {
   "cell_type": "code",
   "execution_count": 31,
   "metadata": {},
   "outputs": [
    {
     "data": {
      "text/plain": [
       "     pred_0_1\n",
       "obser  0  1\n",
       "    0 55 10\n",
       "    1 21 14"
      ]
     },
     "metadata": {},
     "output_type": "display_data"
    }
   ],
   "source": [
    "table(df_confus)"
   ]
  },
  {
   "cell_type": "code",
   "execution_count": 32,
   "metadata": {},
   "outputs": [],
   "source": [
    "sens=55/65"
   ]
  },
  {
   "cell_type": "code",
   "execution_count": 33,
   "metadata": {},
   "outputs": [],
   "source": [
    "sepec=14/(14+21)"
   ]
  },
  {
   "cell_type": "code",
   "execution_count": 36,
   "metadata": {},
   "outputs": [],
   "source": [
    "prob=-4.24010+50*0.06111"
   ]
  },
  {
   "cell_type": "code",
   "execution_count": 37,
   "metadata": {},
   "outputs": [
    {
     "data": {
      "text/html": [
       "-1.1846"
      ],
      "text/latex": [
       "-1.1846"
      ],
      "text/markdown": [
       "-1.1846"
      ],
      "text/plain": [
       "[1] -1.1846"
      ]
     },
     "metadata": {},
     "output_type": "display_data"
    }
   ],
   "source": [
    "prob"
   ]
  },
  {
   "cell_type": "code",
   "execution_count": 38,
   "metadata": {},
   "outputs": [
    {
     "data": {
      "text/html": [
       "0.23422611224904"
      ],
      "text/latex": [
       "0.23422611224904"
      ],
      "text/markdown": [
       "0.23422611224904"
      ],
      "text/plain": [
       "[1] 0.2342261"
      ]
     },
     "metadata": {},
     "output_type": "display_data"
    }
   ],
   "source": [
    "exp(prob)/(1+exp(prob))"
   ]
  },
  {
   "cell_type": "code",
   "execution_count": null,
   "metadata": {},
   "outputs": [],
   "source": []
  }
 ],
 "metadata": {
  "kernelspec": {
   "display_name": "R",
   "language": "R",
   "name": "ir"
  },
  "language_info": {
   "codemirror_mode": "r",
   "file_extension": ".r",
   "mimetype": "text/x-r-source",
   "name": "R",
   "pygments_lexer": "r",
   "version": "3.6.1"
  }
 },
 "nbformat": 4,
 "nbformat_minor": 4
}

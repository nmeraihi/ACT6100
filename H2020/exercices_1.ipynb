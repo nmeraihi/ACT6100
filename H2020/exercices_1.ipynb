{
 "cells": [
  {
   "cell_type": "markdown",
   "metadata": {},
   "source": [
    "# Exercices"
   ]
  },
  {
   "cell_type": "markdown",
   "metadata": {},
   "source": [
    "Fates les exercices \n",
    "* 2 de la section 2.4 du manuel \n",
    "* 4 de la section 2.4 du manuel \n",
    "* Exercice 8 i, ii, iii, iv, v de la section 2.4 du manuel de la {% cite james2013introduction%}. "
   ]
  },
  {
   "cell_type": "markdown",
   "metadata": {},
   "source": [
    "{% bibliography --cited %}"
   ]
  }
 ],
 "metadata": {
  "kernelspec": {
   "display_name": "Python 3",
   "language": "python",
   "name": "python3"
  },
  "language_info": {
   "codemirror_mode": {
    "name": "ipython",
    "version": 3
   },
   "file_extension": ".py",
   "mimetype": "text/x-python",
   "name": "python",
   "nbconvert_exporter": "python",
   "pygments_lexer": "ipython3",
   "version": "3.7.6"
  }
 },
 "nbformat": 4,
 "nbformat_minor": 4
}

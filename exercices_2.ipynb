{
 "cells": [
  {
   "cell_type": "markdown",
   "metadata": {},
   "source": [
    "# Exercices\n",
    "\n"
   ]
  },
  {
   "cell_type": "markdown",
   "metadata": {},
   "source": [
    "Voici une série d'exercices afin de pratiquer les notions que nous avons vues ensemble jusqu'à maintenant. Ces exercices proviennent du livre {% cite james2013introduction%}  ainsi que des notes du cours de {% cite pigeon%}."
   ]
  },
  {
   "cell_type": "markdown",
   "metadata": {},
   "source": [
    "# KNN"
   ]
  },
  {
   "cell_type": "markdown",
   "metadata": {},
   "source": [
    "### Exercice #1\n",
    "\n",
    "Considérons l'ensemble de données ci-dessous. Pour $K = 1$ et $K = 3$, trouvez la valeur prédite $\\hat{y}_0$ du plus proche voisin $K$ pour une donnée non observée dont les prédicteurs sont $x=(1,2,1)$\n",
    "\n",
    "| $i$ | $y_i$ | $x_{1i}$ | $x_{2i}$ | $x_{3i}$ |\n",
    "|---|---|---|---|---|\n",
    "| 1 | 5 | 1 | 2 | 3 |\n",
    "| 2 | 2 | 0 | 3 | 0 |\n",
    "| 3 | 8 | 4 | 0 | 0 |\n",
    "| 4 | 7 | 1 | 1 | 1 |\n",
    "| 5 | 4 | 2 | 2 | 1 |\n",
    "| 6 | 5 | 2 | 1 | 1 |"
   ]
  },
  {
   "cell_type": "markdown",
   "metadata": {},
   "source": [
    "### Exercice #2\n",
    "La base de données `dataEXO1.csv` disponible sur le site du cours contient $100$ observations d'une variable réponse $Y$ et d'une variable explicative $X$.\n",
    "\n",
    "1. Réaliser un nuage de points représentant ces données. En `R` ou `Python`, estimer les paramètres d'un modèle de régression linéaire et ajouter ce modèle sur le graphique. Est-ce que les paramètres sont significatifs? Quelle est l'erreur quadratique moyenne?\n",
    "2. En `R` ou `Python`, ajuster maintenant un modèle quadratique et ajouter ce modèle sur le graphique. Est-ce que les paramètres sont significatifs? Quelle est l'erreur quadratique moyenne?\n",
    "3. Si on utilise l'algorithme des $K$ plus proches voisins, quelle valeur de $K$ minimise l'erreur quadratique moyenne d'entrainement? Ajouter ce modèle au graphique. Quelle est la valeur de l'erreur quadratique moyenne d'entrainement du modèle optimal?\n",
    "4. Si on utilise l'algorithme des $K$ plus proches voisins avec validation croisée (**leave one out**), quelle valeur de $K$ minimise l'erreur quadratique moyenne de validation? Ajouter ce modèle au graphique. Quelle est la valeur de l'erreur quadratique moyenne de validation du modèle optimal?\n",
    "5. Pour une nouvelle observation $(x^*, y^*) = (333.2522, 99508.44)$, utiliser les $4$ modèles précédents afin d'obtenir une prédiction et calculer, à chaque fois, l'erreur quadratique de prédiction. "
   ]
  },
  {
   "cell_type": "markdown",
   "metadata": {},
   "source": [
    "### Exercice #3\n",
    "\n",
    "On considére une petite base de données contenant les valeurs présentées à la table ci-dessous:\n",
    "\n",
    "| $i$ | $Y_i$ | $X_i$ |\n",
    "|-----|-------|-------|\n",
    "| $1$ | $4$   | $1$   |\n",
    "| $2$ | $2$   | $4$   |\n",
    "| $3$ | $8$   | $2$   |\n",
    "| $4$ | $5$   | $9$   |\n",
    "| $5$ | $3$   | $7$   |\n",
    "\n",
    "Répondre aux questions ci-dessous en utilisant le language... `à la main`.\n",
    "\n",
    "1. Ajuster un modèle de régression linéaire en minimisant l'erreur quadratique moyenne d'entrainement. écrire l'équation du modèle.\n",
    "2. Pour un modèle des $2$ plus proches voisins, ajuster le modèle sans validation croisée et écrire l'équation du modèle.\n",
    "3. Pour un modèle des $2$ plus proches voisins, calculer la valeur du vMSE avec **leave one out cross validation**."
   ]
  },
  {
   "cell_type": "markdown",
   "metadata": {},
   "source": [
    "# Validation croisée\n",
    "1. Exercice 3 et 8 du livre ISLR\n",
    "\n",
    "2. Section 5.3.1 du manuel de l'ISL. "
   ]
  },
  {
   "cell_type": "markdown",
   "metadata": {},
   "source": [
    "# Références\n",
    "\n",
    "\n",
    "{% bibliography --cited %}"
   ]
  }
 ],
 "metadata": {
  "kernelspec": {
   "display_name": "Python 3",
   "language": "python",
   "name": "python3"
  },
  "language_info": {
   "codemirror_mode": {
    "name": "ipython",
    "version": 3
   },
   "file_extension": ".py",
   "mimetype": "text/x-python",
   "name": "python",
   "nbconvert_exporter": "python",
   "pygments_lexer": "ipython3",
   "version": "3.7.6"
  }
 },
 "nbformat": 4,
 "nbformat_minor": 4
}

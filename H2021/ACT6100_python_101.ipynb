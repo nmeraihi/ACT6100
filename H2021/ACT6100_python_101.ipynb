{
  "nbformat": 4,
  "nbformat_minor": 0,
  "metadata": {
    "colab": {
      "name": "ACT6100_python_101.ipynb",
      "private_outputs": true,
      "provenance": []
    },
    "kernelspec": {
      "name": "python3",
      "display_name": "Python 3"
    }
  },
  "cells": [
    {
      "cell_type": "code",
      "metadata": {
        "id": "IZ-Oyr88htq9"
      },
      "source": [
        "print(\"bonjour\")"
      ],
      "execution_count": null,
      "outputs": []
    },
    {
      "cell_type": "code",
      "metadata": {
        "id": "notPli-nijWN"
      },
      "source": [
        "a=10"
      ],
      "execution_count": null,
      "outputs": []
    },
    {
      "cell_type": "code",
      "metadata": {
        "id": "5DDrKlXzlGt3"
      },
      "source": [
        "a"
      ],
      "execution_count": null,
      "outputs": []
    },
    {
      "cell_type": "code",
      "metadata": {
        "id": "cOhNfuedlE6r"
      },
      "source": [
        "print(a)"
      ],
      "execution_count": null,
      "outputs": []
    },
    {
      "cell_type": "code",
      "metadata": {
        "id": "ZjS1u7JGlIPv"
      },
      "source": [
        "a.bit_length()"
      ],
      "execution_count": null,
      "outputs": []
    },
    {
      "cell_type": "code",
      "metadata": {
        "id": "dz1W1JWwlSbW"
      },
      "source": [
        "google=10**100"
      ],
      "execution_count": null,
      "outputs": []
    },
    {
      "cell_type": "code",
      "metadata": {
        "id": "QndBPKpxlV3p"
      },
      "source": [
        "print(google)"
      ],
      "execution_count": null,
      "outputs": []
    },
    {
      "cell_type": "code",
      "metadata": {
        "id": "TFgWj-G4lYhs"
      },
      "source": [
        "google.bit_length()"
      ],
      "execution_count": null,
      "outputs": []
    },
    {
      "cell_type": "code",
      "metadata": {
        "id": "0tdVE2UClcVa"
      },
      "source": [
        "1+5"
      ],
      "execution_count": null,
      "outputs": []
    },
    {
      "cell_type": "code",
      "metadata": {
        "id": "_SutazstmBXG"
      },
      "source": [
        "1/4"
      ],
      "execution_count": null,
      "outputs": []
    },
    {
      "cell_type": "code",
      "metadata": {
        "id": "6wf4HtK2mCZW"
      },
      "source": [
        "type(5)"
      ],
      "execution_count": null,
      "outputs": []
    },
    {
      "cell_type": "code",
      "metadata": {
        "id": "Y1oUmj1umGyA"
      },
      "source": [
        "type(1/4)"
      ],
      "execution_count": null,
      "outputs": []
    },
    {
      "cell_type": "code",
      "metadata": {
        "id": "GIOO0ZMomI2G"
      },
      "source": [
        "4>5"
      ],
      "execution_count": null,
      "outputs": []
    },
    {
      "cell_type": "code",
      "metadata": {
        "id": "EaUihDNgmNEE"
      },
      "source": [
        "import keyword\n",
        "keyword.kwlist"
      ],
      "execution_count": null,
      "outputs": []
    },
    {
      "cell_type": "code",
      "metadata": {
        "id": "dn3v5P6rmYRj"
      },
      "source": [
        "4==5"
      ],
      "execution_count": null,
      "outputs": []
    },
    {
      "cell_type": "code",
      "metadata": {
        "id": "SAeqeFBBmgZS"
      },
      "source": [
        "4!=5"
      ],
      "execution_count": null,
      "outputs": []
    },
    {
      "cell_type": "code",
      "metadata": {
        "id": "lvjVR5RjmhdZ"
      },
      "source": [
        "True and True"
      ],
      "execution_count": null,
      "outputs": []
    },
    {
      "cell_type": "code",
      "metadata": {
        "id": "65ru8yNXmkWZ"
      },
      "source": [
        "(4==5) and (4!=5)"
      ],
      "execution_count": null,
      "outputs": []
    },
    {
      "cell_type": "code",
      "metadata": {
        "id": "H_3gW9TtmwMm"
      },
      "source": [
        "cours=\"ACT6100\""
      ],
      "execution_count": null,
      "outputs": []
    },
    {
      "cell_type": "code",
      "metadata": {
        "id": "MLu9jjrJm0Kj"
      },
      "source": [
        "t=(\"ACT\", 6, 100)"
      ],
      "execution_count": null,
      "outputs": []
    },
    {
      "cell_type": "code",
      "metadata": {
        "id": "K2fw_shUnAOO"
      },
      "source": [
        "type(t)"
      ],
      "execution_count": null,
      "outputs": []
    },
    {
      "cell_type": "code",
      "metadata": {
        "id": "lEetpRavnBqj"
      },
      "source": [
        "t[0]"
      ],
      "execution_count": null,
      "outputs": []
    },
    {
      "cell_type": "code",
      "metadata": {
        "id": "liH1lOjinKS4"
      },
      "source": [
        "t[1]"
      ],
      "execution_count": null,
      "outputs": []
    },
    {
      "cell_type": "code",
      "metadata": {
        "id": "5-zGf1lanLBY"
      },
      "source": [
        "t[2]"
      ],
      "execution_count": null,
      "outputs": []
    },
    {
      "cell_type": "code",
      "metadata": {
        "id": "EqbvvmKnnNuh"
      },
      "source": [
        "t.count(\"ACT\")"
      ],
      "execution_count": null,
      "outputs": []
    },
    {
      "cell_type": "code",
      "metadata": {
        "id": "TspuSwOJnQWQ"
      },
      "source": [
        "l=[\"ACT\", 6, 100]"
      ],
      "execution_count": null,
      "outputs": []
    },
    {
      "cell_type": "code",
      "metadata": {
        "id": "SnD1vYt5nicp"
      },
      "source": [
        "type(l)"
      ],
      "execution_count": null,
      "outputs": []
    },
    {
      "cell_type": "code",
      "metadata": {
        "id": "UsrESDFQnkIW"
      },
      "source": [
        "list(t)"
      ],
      "execution_count": null,
      "outputs": []
    },
    {
      "cell_type": "code",
      "metadata": {
        "id": "TnPbA-1dnno5"
      },
      "source": [
        "l.append(\"ACT3035\")"
      ],
      "execution_count": null,
      "outputs": []
    },
    {
      "cell_type": "code",
      "metadata": {
        "id": "Xq3d9qutnwbl"
      },
      "source": [
        "l"
      ],
      "execution_count": null,
      "outputs": []
    },
    {
      "cell_type": "code",
      "metadata": {
        "id": "Aie-mAt8nw5L"
      },
      "source": [
        "l.remove(\"ACT3035\")"
      ],
      "execution_count": null,
      "outputs": []
    },
    {
      "cell_type": "code",
      "metadata": {
        "id": "bsEhzso0n3bm"
      },
      "source": [
        "l"
      ],
      "execution_count": null,
      "outputs": []
    },
    {
      "cell_type": "code",
      "metadata": {
        "id": "xKzYAsDJn374"
      },
      "source": [
        "len(l)"
      ],
      "execution_count": null,
      "outputs": []
    },
    {
      "cell_type": "code",
      "metadata": {
        "id": "kSvooAWLn50x"
      },
      "source": [
        "for element in l:\n",
        "  print(element)"
      ],
      "execution_count": null,
      "outputs": []
    },
    {
      "cell_type": "code",
      "metadata": {
        "id": "9X7QytKFpeSc"
      },
      "source": [
        "for i in l:\n",
        "  print(i)"
      ],
      "execution_count": null,
      "outputs": []
    },
    {
      "cell_type": "code",
      "metadata": {
        "id": "KlTmzRFQphy0"
      },
      "source": [
        "for i in range(1,10):\n",
        "  if i % 2==0:\n",
        "    print( i, \"est pair\")\n",
        "  elif i % 3 ==0:\n",
        "    print(i, \"est un multiple de 3\")\n",
        "  else:\n",
        "    print(i, \"est impair\")"
      ],
      "execution_count": null,
      "outputs": []
    },
    {
      "cell_type": "code",
      "metadata": {
        "id": "rx5RNAFlpuwK"
      },
      "source": [
        "# les fonctions"
      ],
      "execution_count": null,
      "outputs": []
    },
    {
      "cell_type": "code",
      "metadata": {
        "id": "zgvzujiPqiCX"
      },
      "source": [
        "def pair(x):\n",
        "  return x%2==0"
      ],
      "execution_count": null,
      "outputs": []
    },
    {
      "cell_type": "code",
      "metadata": {
        "id": "C3F_Voyrqruw"
      },
      "source": [
        "pair(17)"
      ],
      "execution_count": null,
      "outputs": []
    },
    {
      "cell_type": "code",
      "metadata": {
        "id": "yqiTzEpuqs9f"
      },
      "source": [
        "map(pair, range(1,10))"
      ],
      "execution_count": null,
      "outputs": []
    },
    {
      "cell_type": "code",
      "metadata": {
        "id": "_2kPF5byq515"
      },
      "source": [
        " list(range(1,10))"
      ],
      "execution_count": null,
      "outputs": []
    },
    {
      "cell_type": "code",
      "metadata": {
        "id": "gBwdLNb4q-aU"
      },
      "source": [
        "list(map(pair, range(1,10)))"
      ],
      "execution_count": null,
      "outputs": []
    },
    {
      "cell_type": "code",
      "metadata": {
        "id": "IIWf9uVLrEej"
      },
      "source": [
        "d={\n",
        "    \"Nom\":\"Noureddine\",\n",
        "    \"Ville\": \"Montréal\",\n",
        "   \"cours\":\"ACT3035\",\n",
        "   \"Fumeur\":False,\n",
        "   \"distance\":15\n",
        "\n",
        "}"
      ],
      "execution_count": null,
      "outputs": []
    },
    {
      "cell_type": "code",
      "metadata": {
        "id": "Oj0JsvxYsLAw"
      },
      "source": [
        "type(d)"
      ],
      "execution_count": null,
      "outputs": []
    },
    {
      "cell_type": "code",
      "metadata": {
        "id": "0NJ9ttjFsNTr"
      },
      "source": [
        "print(d[\"Nom\"], d[\"distance\"])"
      ],
      "execution_count": null,
      "outputs": []
    },
    {
      "cell_type": "code",
      "metadata": {
        "id": "LCEtLNw9sVEV"
      },
      "source": [
        "d.keys()"
      ],
      "execution_count": null,
      "outputs": []
    },
    {
      "cell_type": "code",
      "metadata": {
        "id": "2tsaGrTpsZ1t"
      },
      "source": [
        "d.values()"
      ],
      "execution_count": null,
      "outputs": []
    },
    {
      "cell_type": "code",
      "metadata": {
        "id": "tsABHxvQsdXE"
      },
      "source": [
        "d.items()"
      ],
      "execution_count": null,
      "outputs": []
    },
    {
      "cell_type": "code",
      "metadata": {
        "id": "u0HZAk-7shRX"
      },
      "source": [
        "d[\"distance\"]+25"
      ],
      "execution_count": null,
      "outputs": []
    },
    {
      "cell_type": "code",
      "metadata": {
        "id": "-UdTlSKOsnrE"
      },
      "source": [
        "d[\"distance\"]+=25"
      ],
      "execution_count": null,
      "outputs": []
    },
    {
      "cell_type": "code",
      "metadata": {
        "id": "MBt1eFVQsupc"
      },
      "source": [
        "d.items()"
      ],
      "execution_count": null,
      "outputs": []
    },
    {
      "cell_type": "code",
      "metadata": {
        "id": "Ju0nJpHPsw2B"
      },
      "source": [
        "import numpy as np"
      ],
      "execution_count": null,
      "outputs": []
    },
    {
      "cell_type": "code",
      "metadata": {
        "id": "5RD_NI5BuIi1"
      },
      "source": [
        "a=np.array([0, 1/2, 1, 3/2, 2])"
      ],
      "execution_count": null,
      "outputs": []
    },
    {
      "cell_type": "code",
      "metadata": {
        "id": "mq0B626LuYOV"
      },
      "source": [
        "a"
      ],
      "execution_count": null,
      "outputs": []
    },
    {
      "cell_type": "code",
      "metadata": {
        "id": "XRKeytVmuZJj"
      },
      "source": [
        "list(a)"
      ],
      "execution_count": null,
      "outputs": []
    },
    {
      "cell_type": "code",
      "metadata": {
        "id": "dNXpr-sSueXC"
      },
      "source": [
        "a.sum()"
      ],
      "execution_count": null,
      "outputs": []
    },
    {
      "cell_type": "code",
      "metadata": {
        "id": "fPzowVs0u3Aq"
      },
      "source": [
        "a.std()"
      ],
      "execution_count": null,
      "outputs": []
    },
    {
      "cell_type": "code",
      "metadata": {
        "id": "8vCZ2fZiu4ti"
      },
      "source": [
        "a**2"
      ],
      "execution_count": null,
      "outputs": []
    },
    {
      "cell_type": "code",
      "metadata": {
        "id": "AI5d6hwZu6b8"
      },
      "source": [
        "b=np.array([a, a**2])"
      ],
      "execution_count": null,
      "outputs": []
    },
    {
      "cell_type": "code",
      "metadata": {
        "id": "UgDp6GuhvIf9"
      },
      "source": [
        "b"
      ],
      "execution_count": null,
      "outputs": []
    },
    {
      "cell_type": "code",
      "metadata": {
        "id": "nmKQwHXcvJX0"
      },
      "source": [
        "b.sum()"
      ],
      "execution_count": null,
      "outputs": []
    },
    {
      "cell_type": "code",
      "metadata": {
        "id": "3XcD4qQEvPLa"
      },
      "source": [
        "b.sum(axis=0)"
      ],
      "execution_count": null,
      "outputs": []
    },
    {
      "cell_type": "code",
      "metadata": {
        "id": "AmM6R-gavTuk"
      },
      "source": [
        "b.sum(axis=1)"
      ],
      "execution_count": null,
      "outputs": []
    },
    {
      "cell_type": "code",
      "metadata": {
        "id": "a2XR1tPZvXgX"
      },
      "source": [
        "b=np.arange(15)"
      ],
      "execution_count": null,
      "outputs": []
    },
    {
      "cell_type": "code",
      "metadata": {
        "id": "BZdxWRkgvi61"
      },
      "source": [
        "b=b.reshape((3,5))\n",
        "b"
      ],
      "execution_count": null,
      "outputs": []
    },
    {
      "cell_type": "code",
      "metadata": {
        "id": "7fPHxpu-vnvJ"
      },
      "source": [
        "b.reshape((5,3))"
      ],
      "execution_count": null,
      "outputs": []
    },
    {
      "cell_type": "code",
      "metadata": {
        "id": "0nF942Obv7NP"
      },
      "source": [
        "b.T"
      ],
      "execution_count": null,
      "outputs": []
    },
    {
      "cell_type": "code",
      "metadata": {
        "id": "D5F9nIpNv-Jd"
      },
      "source": [
        "b.transpose()"
      ],
      "execution_count": null,
      "outputs": []
    },
    {
      "cell_type": "code",
      "metadata": {
        "id": "qOkdSe6iwHQx"
      },
      "source": [
        "# Pandas"
      ],
      "execution_count": null,
      "outputs": []
    },
    {
      "cell_type": "code",
      "metadata": {
        "id": "yqnIbRYnwQ8m"
      },
      "source": [
        "import pandas as pd"
      ],
      "execution_count": null,
      "outputs": []
    },
    {
      "cell_type": "code",
      "metadata": {
        "id": "TdXwGfqGwgkA"
      },
      "source": [
        "df=pd.read_csv(\"https://raw.githubusercontent.com/nmeraihi/data/master/islr/Wage.csv\")"
      ],
      "execution_count": null,
      "outputs": []
    },
    {
      "cell_type": "code",
      "metadata": {
        "id": "bKIAeTdnxT8R"
      },
      "source": [
        "df.head()"
      ],
      "execution_count": null,
      "outputs": []
    },
    {
      "cell_type": "code",
      "metadata": {
        "id": "x3JKnCGYxV0F"
      },
      "source": [
        "df.describe()"
      ],
      "execution_count": null,
      "outputs": []
    },
    {
      "cell_type": "code",
      "metadata": {
        "id": "qO7tkG4dyBrM"
      },
      "source": [
        "import scipy.linalg as la"
      ],
      "execution_count": null,
      "outputs": []
    },
    {
      "cell_type": "code",
      "metadata": {
        "id": "l9BJXK5tyouG"
      },
      "source": [
        ""
      ],
      "execution_count": null,
      "outputs": []
    },
    {
      "cell_type": "markdown",
      "metadata": {
        "id": "m3p8kEDvysI2"
      },
      "source": [
        "Calculons $2 I+3 A-A B$ for\n",
        "$$\n",
        "A=\\left[\\begin{array}{cc}\n",
        "1 & 3 \\\\\n",
        "-1 & 7\n",
        "\\end{array}\\right] \\quad B=\\left[\\begin{array}{ll}\n",
        "5 & 2 \\\\\n",
        "1 & 2\n",
        "\\end{array}\\right]\n",
        "$$\n",
        "où $I$ est une matrice identité de taille 2 :"
      ]
    },
    {
      "cell_type": "code",
      "metadata": {
        "id": "gw5lNk0qytR8"
      },
      "source": [
        "A= np.array([[1,3], [-1,7]])\n",
        "print(A)"
      ],
      "execution_count": null,
      "outputs": []
    },
    {
      "cell_type": "code",
      "metadata": {
        "id": "IghrHq5VzBxp"
      },
      "source": [
        "B= np.array([[5,2], [1,2]])\n",
        "print(B)"
      ],
      "execution_count": null,
      "outputs": []
    },
    {
      "cell_type": "code",
      "metadata": {
        "id": "mx5D0xBSzMf1"
      },
      "source": [
        "I=np.eye(2)\n",
        "print(I)"
      ],
      "execution_count": null,
      "outputs": []
    },
    {
      "cell_type": "code",
      "metadata": {
        "id": "APcw3dEdzVN8"
      },
      "source": [
        "M=2*I+3*A-A@B\n",
        "print(M)"
      ],
      "execution_count": null,
      "outputs": []
    },
    {
      "cell_type": "code",
      "metadata": {
        "id": "0EMa4rJEzisr"
      },
      "source": [
        "M.T"
      ],
      "execution_count": null,
      "outputs": []
    },
    {
      "cell_type": "code",
      "metadata": {
        "id": "mt1MPHnhzvjA"
      },
      "source": [
        "M@M.T"
      ],
      "execution_count": null,
      "outputs": []
    },
    {
      "cell_type": "code",
      "metadata": {
        "id": "Xz8BEXIhzy-9"
      },
      "source": [
        ""
      ],
      "execution_count": null,
      "outputs": []
    },
    {
      "cell_type": "markdown",
      "metadata": {
        "id": "CNCityng0ZlT"
      },
      "source": [
        "A linear system of equations is a collection of linear equations\n",
        "$$\n",
        "\\begin{array}{c}\n",
        "a_{0,0} x_{0}+a_{0,1} x_{2}+\\cdots+a_{0, n} x_{n}=b_{0} \\\\\n",
        "a_{1,0} x_{0}+a_{1,1} x_{2}+\\cdots+a_{1, n} x_{n}=b_{1} \\\\\n",
        "\\vdots \\\\\n",
        "a_{m, 0} x_{0}+a_{m, 1} x_{2}+\\cdots+a_{m, n} x_{n}=b_{m}\n",
        "\\end{array}\n",
        "$$"
      ]
    },
    {
      "cell_type": "code",
      "metadata": {
        "id": "oBX-nMqG0aZB"
      },
      "source": [
        ""
      ],
      "execution_count": null,
      "outputs": []
    },
    {
      "cell_type": "markdown",
      "metadata": {
        "id": "d4VySvtl0erQ"
      },
      "source": [
        "In matrix notation, a linear system is $A \\mathbf{x}=\\mathbf{b}$ where\n",
        "$$\n",
        "A=\\left[\\begin{array}{cccc}\n",
        "a_{0,0} & a_{0,1} & \\cdots & a_{0, n} \\\\\n",
        "a_{1,0} & a_{1,1} & \\cdots & a_{1, n} \\\\\n",
        "\\vdots & & & \\vdots \\\\\n",
        "a_{m, 0} & a_{m, 1} & \\cdots & a_{m, n}\n",
        "\\end{array}\\right] \\quad, \\quad \\mathbf{x}=\\left[\\begin{array}{c}\n",
        "x_{0} \\\\\n",
        "x_{1} \\\\\n",
        "\\vdots \\\\\n",
        "x_{n}\n",
        "\\end{array}\\right] \\quad, \\quad \\mathbf{b}=\\left[\\begin{array}{c}\n",
        "b_{0} \\\\\n",
        "b_{1} \\\\\n",
        "\\vdots \\\\\n",
        "b_{m}\n",
        "\\end{array}\\right]\n",
        "$$"
      ]
    },
    {
      "cell_type": "code",
      "metadata": {
        "id": "YBuZFY9T0dje"
      },
      "source": [
        "N=1000\n",
        "A=np.random.rand(N,N)\n",
        "b=np.random.rand(N,1)"
      ],
      "execution_count": null,
      "outputs": []
    },
    {
      "cell_type": "code",
      "metadata": {
        "id": "4Y7F7Hga0z-7"
      },
      "source": [
        "A[:4,:3]"
      ],
      "execution_count": null,
      "outputs": []
    },
    {
      "cell_type": "code",
      "metadata": {
        "id": "2a96DO-504SC"
      },
      "source": [
        "b[:4,:]"
      ],
      "execution_count": null,
      "outputs": []
    },
    {
      "cell_type": "code",
      "metadata": {
        "id": "2azQKhUW0_T3"
      },
      "source": [
        "x=la.solve(A, b)\n",
        "print(x[:4, :])"
      ],
      "execution_count": null,
      "outputs": []
    },
    {
      "cell_type": "code",
      "metadata": {
        "id": "sNXFporl1HWk"
      },
      "source": [
        ""
      ],
      "execution_count": null,
      "outputs": []
    }
  ]
}
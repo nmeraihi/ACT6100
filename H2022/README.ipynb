{
 "cells": [
  {
   "cell_type": "markdown",
   "id": "4b4227c3",
   "metadata": {},
   "source": [
    "Voici [le plan de cours](https://nme.notion.site/ACT6100H22-ed57f8cd937442ce932c6bdd60a5a813) pour la session HIV_2022\n",
    "\n",
    "* Séance 1\n",
    "    * [Apperçu](https://nmeraihi.github.io/conferences/act6100_0_appercu.html#/)\n",
    "    * [Apprentissage automatique](https://nmeraihi.github.io/conferences/act6100_1_1_apprentissage_automatique-slides.html#/)\n",
    "    * [Les données](https://nmeraihi.github.io/conferences/act6100_1_2_Les_donnees.html#/)\n",
    "    * [Collecte des données](https://nmeraihi.github.io/conferences/act6100_1_3_collectData_slides.html#/)"
   ]
  }
 ],
 "metadata": {
  "kernelspec": {
   "display_name": "Python 3",
   "language": "python",
   "name": "python3"
  },
  "language_info": {
   "codemirror_mode": {
    "name": "ipython",
    "version": 3
   },
   "file_extension": ".py",
   "mimetype": "text/x-python",
   "name": "python",
   "nbconvert_exporter": "python",
   "pygments_lexer": "ipython3",
   "version": "3.7.6"
  }
 },
 "nbformat": 4,
 "nbformat_minor": 5
}
